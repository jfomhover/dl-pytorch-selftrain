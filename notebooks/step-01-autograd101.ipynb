{
 "cells": [
  {
   "cell_type": "markdown",
   "metadata": {},
   "source": [
    "# Gradient computation support (`autograd101`)\n",
    "\n",
    "Work in Progress"
   ]
  },
  {
   "cell_type": "code",
   "execution_count": 1,
   "metadata": {},
   "outputs": [],
   "source": [
    "import torch"
   ]
  },
  {
   "cell_type": "markdown",
   "metadata": {},
   "source": [
    "This is the example from [cs224n lecture 4, slide #24](http://web.stanford.edu/class/cs224n/slides/cs224n-2019-lecture04-backprop.pdf#24)"
   ]
  },
  {
   "cell_type": "code",
   "execution_count": 2,
   "metadata": {},
   "outputs": [
    {
     "data": {
      "text/plain": [
       "tensor([6.], grad_fn=<MulBackward0>)"
      ]
     },
     "execution_count": 2,
     "metadata": {},
     "output_type": "execute_result"
    }
   ],
   "source": [
    "# defining the inputs as tensors\n",
    "x = torch.tensor([1.], requires_grad=True)\n",
    "y = torch.tensor([2.], requires_grad=True)\n",
    "z = torch.tensor([0.], requires_grad=True)\n",
    "\n",
    "# creating an operation\n",
    "out = (x + y) * max(y, z)\n",
    "\n",
    "# is actually a tensor object\n",
    "out"
   ]
  },
  {
   "cell_type": "code",
   "execution_count": 3,
   "metadata": {},
   "outputs": [
    {
     "name": "stdout",
     "output_type": "stream",
     "text": [
      "df/dx=tensor([2.])\n",
      "df/dy=tensor([5.])\n",
      "df/dz=None\n"
     ]
    }
   ],
   "source": [
    "# autograd will compute the gradient for all nodes\n",
    "out.backward(torch.tensor([1.]))\n",
    "\n",
    "print(\"df/dx={}\".format(x.grad))\n",
    "print(\"df/dy={}\".format(y.grad))\n",
    "print(\"df/dz={}\".format(z.grad))"
   ]
  },
  {
   "cell_type": "code",
   "execution_count": null,
   "metadata": {},
   "outputs": [],
   "source": []
  }
 ],
 "metadata": {
  "kernelspec": {
   "display_name": "Python [conda env:dlselftrain] *",
   "language": "python",
   "name": "conda-env-dlselftrain-py"
  },
  "language_info": {
   "codemirror_mode": {
    "name": "ipython",
    "version": 3
   },
   "file_extension": ".py",
   "mimetype": "text/x-python",
   "name": "python",
   "nbconvert_exporter": "python",
   "pygments_lexer": "ipython3",
   "version": "3.7.4"
  }
 },
 "nbformat": 4,
 "nbformat_minor": 2
}
