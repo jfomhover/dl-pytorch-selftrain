{
 "cells": [
  {
   "cell_type": "markdown",
   "metadata": {},
   "source": [
    "# LogReg with plain AutoGrad (from scratch)\n",
    "\n",
    "_But wait, LogReg is not Deep Learning! Why should we care?_  \n",
    "_Well, we use LogReg as an excuse to explore `autograd` in an iterative loop to implement gradient descent from scratch, using pytorch only for gradient computation._\n",
    "\n",
    "### Learning Objectives\n",
    "- use autograd to compute gradient for a given modeling formula (LogReg)\n",
    "\n",
    "### Requirements\n",
    "\n",
    "To benefit from this content, it is preferable to know:\n",
    "- how Logistic Regression works (log likelyhood, etc)\n",
    "- how basic gradient descent works (learning rate, etc)"
   ]
  },
  {
   "cell_type": "code",
   "execution_count": 1,
   "metadata": {},
   "outputs": [],
   "source": [
    "import torch\n",
    "import matplotlib.pyplot as plt\n",
    "import numpy\n",
    "%matplotlib inline"
   ]
  },
  {
   "cell_type": "markdown",
   "metadata": {},
   "source": [
    "## 1. Fake data with \"hidden\" truth function"
   ]
  },
  {
   "cell_type": "code",
   "execution_count": 2,
   "metadata": {},
   "outputs": [],
   "source": [
    "hidden_beta = numpy.array([1.25, -1.5, 0.1])\n",
    "\n",
    "def truth_function(x, hidden_beta):\n",
    "    dotprod = hidden_beta[0] * x[0,:] + hidden_beta[1] * x[1,:] + hidden_beta[2]\n",
    "    return (dotprod > 0).astype(float)\n",
    "\n",
    "attributes = numpy.random.random((2,100))\n",
    "target = truth_function(attributes, hidden_beta).astype(float)"
   ]
  },
  {
   "cell_type": "markdown",
   "metadata": {},
   "source": [
    "Let's scatter plot this..."
   ]
  },
  {
   "cell_type": "code",
   "execution_count": 3,
   "metadata": {},
   "outputs": [
    {
     "data": {
      "text/plain": [
       "<matplotlib.collections.PathCollection at 0x21195dae348>"
      ]
     },
     "execution_count": 3,
     "metadata": {},
     "output_type": "execute_result"
    },
    {
     "data": {
      "image/png": "[encoded data removed]",
      "text/plain": [
       "<Figure size 432x288 with 1 Axes>"
      ]
     },
     "metadata": {
      "needs_background": "light"
     },
     "output_type": "display_data"
    }
   ],
   "source": [
    "target_colors = ['blue' if t == 1 else 'red' for t in target]\n",
    "plt.scatter(attributes[0,:], attributes[1,:], c=target_colors)"
   ]
  },
  {
   "cell_type": "markdown",
   "metadata": {},
   "source": [
    "## 2. LogReg model with just plain tensors\n",
    "\n",
    "First, data prep..."
   ]
  },
  {
   "cell_type": "code",
   "execution_count": 4,
   "metadata": {},
   "outputs": [],
   "source": [
    "attributes_biasterm = numpy.vstack([\n",
    "    attributes,\n",
    "    numpy.ones(attributes.shape[1]) # add a bias term first\n",
    "])\n",
    "\n",
    "# those don't require grad\n",
    "X = torch.tensor(attributes_biasterm, requires_grad=False).float()\n",
    "Y = torch.tensor(target, requires_grad=False).float()"
   ]
  },
  {
   "cell_type": "code",
   "execution_count": 5,
   "metadata": {},
   "outputs": [],
   "source": [
    "# this is our parameter tensor, it requires grad\n",
    "beta_t = torch.rand((1, 3), requires_grad=True)\n",
    "\n",
    "with torch.no_grad():\n",
    "    beta_t /= torch.norm(beta_t)"
   ]
  },
  {
   "cell_type": "markdown",
   "metadata": {},
   "source": [
    "Let's just see what predictions this random $\\beta$ will give (probably bad).\n",
    "\n",
    "We'll apply the basic LogReg formula:\n",
    "\n",
    "$$P(y|x) = \\frac{1}{1 + e^{-\\beta^T.x}}$$"
   ]
  },
  {
   "cell_type": "code",
   "execution_count": 6,
   "metadata": {},
   "outputs": [
    {
     "name": "stdout",
     "output_type": "stream",
     "text": [
      "Accuracy: 48.000000%\n"
     ]
    }
   ],
   "source": [
    "with torch.no_grad():\n",
    "    # prediction from LogReg\n",
    "    P_y_given_x = 1 / (1 + torch.exp(-torch.mm(beta_t,X)))\n",
    "    Y_hat = (P_y_given_x > 0.5).float()\n",
    "    errors = torch.sum(torch.abs(Y_hat - Y)).item()\n",
    "    print(\"Accuracy: {:2f}%\".format(100 * ( 1 - errors / Y.shape[0])))"
   ]
  },
  {
   "cell_type": "markdown",
   "metadata": {},
   "source": [
    "# Training"
   ]
  },
  {
   "cell_type": "code",
   "execution_count": 7,
   "metadata": {},
   "outputs": [
    {
     "name": "stdout",
     "output_type": "stream",
     "text": [
      "step=0, LogL=-88.265610\n",
      "step=500, LogL=-58.094646\n",
      "step=1000, LogL=-58.094646\n",
      "step=1500, LogL=-58.094643\n",
      "step=2000, LogL=-58.094650\n",
      "step=2500, LogL=-58.094646\n",
      "step=3000, LogL=-58.094650\n",
      "step=3500, LogL=-58.094646\n",
      "step=4000, LogL=-58.094639\n",
      "step=4500, LogL=-58.094646\n",
      "step=5000, LogL=-58.094643\n",
      "step=5500, LogL=-58.094646\n",
      "step=6000, LogL=-58.094654\n",
      "step=6500, LogL=-58.094654\n",
      "step=7000, LogL=-58.094650\n",
      "step=7500, LogL=-58.094643\n",
      "step=8000, LogL=-58.094646\n",
      "step=8500, LogL=-58.094654\n",
      "step=9000, LogL=-58.094654\n",
      "step=9500, LogL=-58.094654\n"
     ]
    }
   ],
   "source": [
    "beta_memory = []\n",
    "lambda_reg = 0.1\n",
    "learning_rate = 0.01\n",
    "steps = 10000\n",
    "\n",
    "for step in range(steps):\n",
    "    LogL = torch.sum(\n",
    "        Y * torch.mm(beta_t,X)\n",
    "        - torch.log(1 + torch.exp(torch.mm(beta_t,X)))\n",
    "    )\n",
    "    LogL.backward()\n",
    "    \n",
    "    # we update beta using gradient descent\n",
    "    beta_t.requires_grad = False           # autograd needs to stop during iteration\n",
    "    beta_memory.append(beta_t.numpy())     # we store beta for fun\n",
    "    beta_t += learning_rate * beta_t.grad  # apply GD\n",
    "    beta_t /= torch.norm(beta_t)\n",
    "    beta_t.requires_grad = True            # autograd back on for next iteration\n",
    "    \n",
    "    if step % (steps // 20) == 0:\n",
    "        print(\"step={}, LogL={:5f}\".format(step, LogL.item()))\n"
   ]
  },
  {
   "cell_type": "code",
   "execution_count": 8,
   "metadata": {},
   "outputs": [
    {
     "name": "stdout",
     "output_type": "stream",
     "text": [
      "Accuracy: 92.000000%\n"
     ]
    }
   ],
   "source": [
    "with torch.no_grad():\n",
    "    # prediction from LogReg\n",
    "    P_y_given_x = 1 / (1 + torch.exp(-torch.mm(beta_t,X)))\n",
    "    Y_hat = (P_y_given_x > 0.5).float()\n",
    "    errors = torch.sum(torch.abs(Y_hat - Y)).item()\n",
    "    print(\"Accuracy: {:2f}%\".format(100 * ( 1 - errors / Y.shape[0])))"
   ]
  },
  {
   "cell_type": "code",
   "execution_count": 9,
   "metadata": {},
   "outputs": [
    {
     "name": "stdout",
     "output_type": "stream",
     "text": [
      "[ 0.6293685  -0.7769946  -0.01321963]\n",
      "[ 1.25 -1.5   0.1 ]\n"
     ]
    },
    {
     "data": {
      "text/plain": [
       "0.0021691685717722953"
      ]
     },
     "execution_count": 9,
     "metadata": {},
     "output_type": "execute_result"
    }
   ],
   "source": [
    "from scipy.spatial.distance import cosine\n",
    "\n",
    "print(beta_memory[-1][0])\n",
    "print(hidden_beta)\n",
    "\n",
    "cosine(hidden_beta, beta_memory[-1][0])"
   ]
  }
 ],
 "metadata": {
  "kernelspec": {
   "display_name": "Python [conda env:dlselftrain] *",
   "language": "python",
   "name": "conda-env-dlselftrain-py"
  },
  "language_info": {
   "codemirror_mode": {
    "name": "ipython",
    "version": 3
   },
   "file_extension": ".py",
   "mimetype": "text/x-python",
   "name": "python",
   "nbconvert_exporter": "python",
   "pygments_lexer": "ipython3",
   "version": "3.7.4"
  }
 },
 "nbformat": 4,
 "nbformat_minor": 2
}
